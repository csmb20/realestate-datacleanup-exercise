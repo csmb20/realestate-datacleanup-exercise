{
 "cells": [
  {
   "attachments": {},
   "cell_type": "markdown",
   "id": "innocent-university",
   "metadata": {},
   "source": [
    "# Real Estate Clean up\n",
    "\n",
    "This is a real dataset, and it was downloaded using web scraping techniques. The data contains registers from **Fotocasa** which is one of the most popular real estate websites in Spain. Please, do not do this (web scraping) unless it is for academic purposes.\n",
    "\n",
    "The dataset was downloaded a few years ago by Henry Navarro, and in no case were economic returns obtained from it.\n",
    "\n",
    "It contains thousands of data from real houses published on the web www.fotocasa.com. Your goal is to extract as much information as possible with the knowledge you have so far about data science, for example what is the most expensive house in the entire dataset?\n",
    "\n",
    "Let's start with precisely that question... Good luck!"
   ]
  },
  {
   "attachments": {},
   "cell_type": "markdown",
   "id": "multiple-glass",
   "metadata": {},
   "source": [
    "#### Exercise 00. Read the dataset assets/real_estate.csv and try to visualize the table (★☆☆)"
   ]
  },
  {
   "cell_type": "code",
   "execution_count": 1,
   "id": "frank-heath",
   "metadata": {},
   "outputs": [
    {
     "data": {
      "text/html": [
       "<div>\n",
       "<style scoped>\n",
       "    .dataframe tbody tr th:only-of-type {\n",
       "        vertical-align: middle;\n",
       "    }\n",
       "\n",
       "    .dataframe tbody tr th {\n",
       "        vertical-align: top;\n",
       "    }\n",
       "\n",
       "    .dataframe thead th {\n",
       "        text-align: right;\n",
       "    }\n",
       "</style>\n",
       "<table border=\"1\" class=\"dataframe\">\n",
       "  <thead>\n",
       "    <tr style=\"text-align: right;\">\n",
       "      <th></th>\n",
       "      <th>Unnamed: 0</th>\n",
       "      <th>id_realEstates</th>\n",
       "      <th>isNew</th>\n",
       "      <th>realEstate_name</th>\n",
       "      <th>phone_realEstate</th>\n",
       "      <th>url_inmueble</th>\n",
       "      <th>rooms</th>\n",
       "      <th>bathrooms</th>\n",
       "      <th>surface</th>\n",
       "      <th>price</th>\n",
       "      <th>...</th>\n",
       "      <th>level4Id</th>\n",
       "      <th>level5Id</th>\n",
       "      <th>level6Id</th>\n",
       "      <th>level7Id</th>\n",
       "      <th>level8Id</th>\n",
       "      <th>accuracy</th>\n",
       "      <th>latitude</th>\n",
       "      <th>longitude</th>\n",
       "      <th>zipCode</th>\n",
       "      <th>customZone</th>\n",
       "    </tr>\n",
       "  </thead>\n",
       "  <tbody>\n",
       "    <tr>\n",
       "      <th>0</th>\n",
       "      <td>1</td>\n",
       "      <td>153771986</td>\n",
       "      <td>False</td>\n",
       "      <td>ferrari 57 inmobiliaria</td>\n",
       "      <td>912177526.0</td>\n",
       "      <td>https://www.fotocasa.es/es/comprar/vivienda/ma...</td>\n",
       "      <td>3.0</td>\n",
       "      <td>2.0</td>\n",
       "      <td>103.0</td>\n",
       "      <td>195000</td>\n",
       "      <td>...</td>\n",
       "      <td>0</td>\n",
       "      <td>0</td>\n",
       "      <td>0</td>\n",
       "      <td>0</td>\n",
       "      <td>0</td>\n",
       "      <td>0</td>\n",
       "      <td>40,2948276786438</td>\n",
       "      <td>-3,44402412135624</td>\n",
       "      <td>NaN</td>\n",
       "      <td>NaN</td>\n",
       "    </tr>\n",
       "    <tr>\n",
       "      <th>1</th>\n",
       "      <td>2</td>\n",
       "      <td>153867863</td>\n",
       "      <td>False</td>\n",
       "      <td>tecnocasa fuenlabrada ferrocarril</td>\n",
       "      <td>916358736.0</td>\n",
       "      <td>https://www.fotocasa.es/es/comprar/vivienda/ma...</td>\n",
       "      <td>3.0</td>\n",
       "      <td>1.0</td>\n",
       "      <td>NaN</td>\n",
       "      <td>89000</td>\n",
       "      <td>...</td>\n",
       "      <td>0</td>\n",
       "      <td>0</td>\n",
       "      <td>0</td>\n",
       "      <td>0</td>\n",
       "      <td>0</td>\n",
       "      <td>1</td>\n",
       "      <td>40,28674</td>\n",
       "      <td>-3,79351</td>\n",
       "      <td>NaN</td>\n",
       "      <td>NaN</td>\n",
       "    </tr>\n",
       "    <tr>\n",
       "      <th>2</th>\n",
       "      <td>3</td>\n",
       "      <td>153430440</td>\n",
       "      <td>False</td>\n",
       "      <td>look find boadilla</td>\n",
       "      <td>916350408.0</td>\n",
       "      <td>https://www.fotocasa.es/es/comprar/vivienda/ma...</td>\n",
       "      <td>2.0</td>\n",
       "      <td>2.0</td>\n",
       "      <td>99.0</td>\n",
       "      <td>390000</td>\n",
       "      <td>...</td>\n",
       "      <td>0</td>\n",
       "      <td>0</td>\n",
       "      <td>0</td>\n",
       "      <td>0</td>\n",
       "      <td>0</td>\n",
       "      <td>0</td>\n",
       "      <td>40,4115646786438</td>\n",
       "      <td>-3,90662252135624</td>\n",
       "      <td>NaN</td>\n",
       "      <td>NaN</td>\n",
       "    </tr>\n",
       "    <tr>\n",
       "      <th>3</th>\n",
       "      <td>4</td>\n",
       "      <td>152776331</td>\n",
       "      <td>False</td>\n",
       "      <td>tecnocasa fuenlabrada ferrocarril</td>\n",
       "      <td>916358736.0</td>\n",
       "      <td>https://www.fotocasa.es/es/comprar/vivienda/ma...</td>\n",
       "      <td>3.0</td>\n",
       "      <td>1.0</td>\n",
       "      <td>86.0</td>\n",
       "      <td>89000</td>\n",
       "      <td>...</td>\n",
       "      <td>0</td>\n",
       "      <td>0</td>\n",
       "      <td>0</td>\n",
       "      <td>0</td>\n",
       "      <td>0</td>\n",
       "      <td>0</td>\n",
       "      <td>40,2853785786438</td>\n",
       "      <td>-3,79508142135624</td>\n",
       "      <td>NaN</td>\n",
       "      <td>NaN</td>\n",
       "    </tr>\n",
       "    <tr>\n",
       "      <th>4</th>\n",
       "      <td>5</td>\n",
       "      <td>153180188</td>\n",
       "      <td>False</td>\n",
       "      <td>ferrari 57 inmobiliaria</td>\n",
       "      <td>912177526.0</td>\n",
       "      <td>https://www.fotocasa.es/es/comprar/vivienda/ma...</td>\n",
       "      <td>2.0</td>\n",
       "      <td>2.0</td>\n",
       "      <td>106.0</td>\n",
       "      <td>172000</td>\n",
       "      <td>...</td>\n",
       "      <td>0</td>\n",
       "      <td>0</td>\n",
       "      <td>0</td>\n",
       "      <td>0</td>\n",
       "      <td>0</td>\n",
       "      <td>0</td>\n",
       "      <td>40,2998774864376</td>\n",
       "      <td>-3,45226301356237</td>\n",
       "      <td>NaN</td>\n",
       "      <td>NaN</td>\n",
       "    </tr>\n",
       "    <tr>\n",
       "      <th>...</th>\n",
       "      <td>...</td>\n",
       "      <td>...</td>\n",
       "      <td>...</td>\n",
       "      <td>...</td>\n",
       "      <td>...</td>\n",
       "      <td>...</td>\n",
       "      <td>...</td>\n",
       "      <td>...</td>\n",
       "      <td>...</td>\n",
       "      <td>...</td>\n",
       "      <td>...</td>\n",
       "      <td>...</td>\n",
       "      <td>...</td>\n",
       "      <td>...</td>\n",
       "      <td>...</td>\n",
       "      <td>...</td>\n",
       "      <td>...</td>\n",
       "      <td>...</td>\n",
       "      <td>...</td>\n",
       "      <td>...</td>\n",
       "      <td>...</td>\n",
       "    </tr>\n",
       "    <tr>\n",
       "      <th>15330</th>\n",
       "      <td>15331</td>\n",
       "      <td>153901377</td>\n",
       "      <td>False</td>\n",
       "      <td>infocasa consulting</td>\n",
       "      <td>911360461.0</td>\n",
       "      <td>https://www.fotocasa.es/es/comprar/vivienda/ma...</td>\n",
       "      <td>2.0</td>\n",
       "      <td>1.0</td>\n",
       "      <td>96.0</td>\n",
       "      <td>259470</td>\n",
       "      <td>...</td>\n",
       "      <td>0</td>\n",
       "      <td>0</td>\n",
       "      <td>0</td>\n",
       "      <td>0</td>\n",
       "      <td>0</td>\n",
       "      <td>0</td>\n",
       "      <td>40,45416</td>\n",
       "      <td>-3,70286</td>\n",
       "      <td>NaN</td>\n",
       "      <td>NaN</td>\n",
       "    </tr>\n",
       "    <tr>\n",
       "      <th>15331</th>\n",
       "      <td>15332</td>\n",
       "      <td>150394373</td>\n",
       "      <td>False</td>\n",
       "      <td>inmobiliaria pulpon</td>\n",
       "      <td>912788039.0</td>\n",
       "      <td>https://www.fotocasa.es/es/comprar/vivienda/ma...</td>\n",
       "      <td>3.0</td>\n",
       "      <td>1.0</td>\n",
       "      <td>150.0</td>\n",
       "      <td>165000</td>\n",
       "      <td>...</td>\n",
       "      <td>0</td>\n",
       "      <td>0</td>\n",
       "      <td>0</td>\n",
       "      <td>0</td>\n",
       "      <td>0</td>\n",
       "      <td>0</td>\n",
       "      <td>40,36652</td>\n",
       "      <td>-3,48951</td>\n",
       "      <td>NaN</td>\n",
       "      <td>NaN</td>\n",
       "    </tr>\n",
       "    <tr>\n",
       "      <th>15332</th>\n",
       "      <td>15333</td>\n",
       "      <td>153901397</td>\n",
       "      <td>False</td>\n",
       "      <td>tecnocasa torrelodones</td>\n",
       "      <td>912780348.0</td>\n",
       "      <td>https://www.fotocasa.es/es/comprar/vivienda/ma...</td>\n",
       "      <td>4.0</td>\n",
       "      <td>2.0</td>\n",
       "      <td>175.0</td>\n",
       "      <td>495000</td>\n",
       "      <td>...</td>\n",
       "      <td>0</td>\n",
       "      <td>0</td>\n",
       "      <td>0</td>\n",
       "      <td>0</td>\n",
       "      <td>0</td>\n",
       "      <td>0</td>\n",
       "      <td>40,57444</td>\n",
       "      <td>-3,92124</td>\n",
       "      <td>NaN</td>\n",
       "      <td>NaN</td>\n",
       "    </tr>\n",
       "    <tr>\n",
       "      <th>15333</th>\n",
       "      <td>15334</td>\n",
       "      <td>152607440</td>\n",
       "      <td>False</td>\n",
       "      <td>inmobiliaria pulpon</td>\n",
       "      <td>912788039.0</td>\n",
       "      <td>https://www.fotocasa.es/es/comprar/vivienda/ma...</td>\n",
       "      <td>3.0</td>\n",
       "      <td>2.0</td>\n",
       "      <td>101.0</td>\n",
       "      <td>195000</td>\n",
       "      <td>...</td>\n",
       "      <td>0</td>\n",
       "      <td>0</td>\n",
       "      <td>0</td>\n",
       "      <td>0</td>\n",
       "      <td>0</td>\n",
       "      <td>0</td>\n",
       "      <td>40,36967</td>\n",
       "      <td>-3,48105</td>\n",
       "      <td>NaN</td>\n",
       "      <td>NaN</td>\n",
       "    </tr>\n",
       "    <tr>\n",
       "      <th>15334</th>\n",
       "      <td>15335</td>\n",
       "      <td>153901356</td>\n",
       "      <td>False</td>\n",
       "      <td>infocasa consulting</td>\n",
       "      <td>911360461.0</td>\n",
       "      <td>https://www.fotocasa.es/es/comprar/vivienda/ma...</td>\n",
       "      <td>3.0</td>\n",
       "      <td>2.0</td>\n",
       "      <td>152.0</td>\n",
       "      <td>765000</td>\n",
       "      <td>...</td>\n",
       "      <td>0</td>\n",
       "      <td>0</td>\n",
       "      <td>0</td>\n",
       "      <td>0</td>\n",
       "      <td>0</td>\n",
       "      <td>0</td>\n",
       "      <td>40,45773</td>\n",
       "      <td>-3,69068</td>\n",
       "      <td>NaN</td>\n",
       "      <td>NaN</td>\n",
       "    </tr>\n",
       "  </tbody>\n",
       "</table>\n",
       "<p>15335 rows × 37 columns</p>\n",
       "</div>"
      ],
      "text/plain": [
       "       Unnamed: 0  id_realEstates  isNew                    realEstate_name  \\\n",
       "0               1       153771986  False            ferrari 57 inmobiliaria   \n",
       "1               2       153867863  False  tecnocasa fuenlabrada ferrocarril   \n",
       "2               3       153430440  False                 look find boadilla   \n",
       "3               4       152776331  False  tecnocasa fuenlabrada ferrocarril   \n",
       "4               5       153180188  False            ferrari 57 inmobiliaria   \n",
       "...           ...             ...    ...                                ...   \n",
       "15330       15331       153901377  False                infocasa consulting   \n",
       "15331       15332       150394373  False                inmobiliaria pulpon   \n",
       "15332       15333       153901397  False             tecnocasa torrelodones   \n",
       "15333       15334       152607440  False                inmobiliaria pulpon   \n",
       "15334       15335       153901356  False                infocasa consulting   \n",
       "\n",
       "       phone_realEstate                                       url_inmueble  \\\n",
       "0           912177526.0  https://www.fotocasa.es/es/comprar/vivienda/ma...   \n",
       "1           916358736.0  https://www.fotocasa.es/es/comprar/vivienda/ma...   \n",
       "2           916350408.0  https://www.fotocasa.es/es/comprar/vivienda/ma...   \n",
       "3           916358736.0  https://www.fotocasa.es/es/comprar/vivienda/ma...   \n",
       "4           912177526.0  https://www.fotocasa.es/es/comprar/vivienda/ma...   \n",
       "...                 ...                                                ...   \n",
       "15330       911360461.0  https://www.fotocasa.es/es/comprar/vivienda/ma...   \n",
       "15331       912788039.0  https://www.fotocasa.es/es/comprar/vivienda/ma...   \n",
       "15332       912780348.0  https://www.fotocasa.es/es/comprar/vivienda/ma...   \n",
       "15333       912788039.0  https://www.fotocasa.es/es/comprar/vivienda/ma...   \n",
       "15334       911360461.0  https://www.fotocasa.es/es/comprar/vivienda/ma...   \n",
       "\n",
       "       rooms  bathrooms  surface   price  ... level4Id level5Id level6Id  \\\n",
       "0        3.0        2.0    103.0  195000  ...        0        0        0   \n",
       "1        3.0        1.0      NaN   89000  ...        0        0        0   \n",
       "2        2.0        2.0     99.0  390000  ...        0        0        0   \n",
       "3        3.0        1.0     86.0   89000  ...        0        0        0   \n",
       "4        2.0        2.0    106.0  172000  ...        0        0        0   \n",
       "...      ...        ...      ...     ...  ...      ...      ...      ...   \n",
       "15330    2.0        1.0     96.0  259470  ...        0        0        0   \n",
       "15331    3.0        1.0    150.0  165000  ...        0        0        0   \n",
       "15332    4.0        2.0    175.0  495000  ...        0        0        0   \n",
       "15333    3.0        2.0    101.0  195000  ...        0        0        0   \n",
       "15334    3.0        2.0    152.0  765000  ...        0        0        0   \n",
       "\n",
       "      level7Id level8Id accuracy          latitude          longitude zipCode  \\\n",
       "0            0        0        0  40,2948276786438  -3,44402412135624     NaN   \n",
       "1            0        0        1          40,28674           -3,79351     NaN   \n",
       "2            0        0        0  40,4115646786438  -3,90662252135624     NaN   \n",
       "3            0        0        0  40,2853785786438  -3,79508142135624     NaN   \n",
       "4            0        0        0  40,2998774864376  -3,45226301356237     NaN   \n",
       "...        ...      ...      ...               ...                ...     ...   \n",
       "15330        0        0        0          40,45416           -3,70286     NaN   \n",
       "15331        0        0        0          40,36652           -3,48951     NaN   \n",
       "15332        0        0        0          40,57444           -3,92124     NaN   \n",
       "15333        0        0        0          40,36967           -3,48105     NaN   \n",
       "15334        0        0        0          40,45773           -3,69068     NaN   \n",
       "\n",
       "      customZone  \n",
       "0            NaN  \n",
       "1            NaN  \n",
       "2            NaN  \n",
       "3            NaN  \n",
       "4            NaN  \n",
       "...          ...  \n",
       "15330        NaN  \n",
       "15331        NaN  \n",
       "15332        NaN  \n",
       "15333        NaN  \n",
       "15334        NaN  \n",
       "\n",
       "[15335 rows x 37 columns]"
      ]
     },
     "execution_count": 1,
     "metadata": {},
     "output_type": "execute_result"
    }
   ],
   "source": [
    "import pandas as pd\n",
    "import numpy  as np\n",
    "from scipy import stats as sts\n",
    "import matplotlib.pyplot as plt\n",
    "from matplotlib.patches import Ellipse as elip\n",
    "import matplotlib.transforms as trns\n",
    "\n",
    "# This CSV file contains semicolons instead of comas as separator\n",
    "ds = pd.read_csv('assets/real_estate.csv', sep=';')\n",
    "ds"
   ]
  },
  {
   "attachments": {},
   "cell_type": "markdown",
   "id": "latin-guest",
   "metadata": {},
   "source": [
    "#### Exercise 01. Which is the most expensive house in the dataset? (★☆☆)\n",
    "\n",
    "Print the address and the price of the selected house. For example:\n",
    "\n",
    "`The house with address General Street Nº5 is the most expensive and its price is 5000000 USD`"
   ]
  },
  {
   "cell_type": "code",
   "execution_count": 2,
   "id": "developing-optimum",
   "metadata": {},
   "outputs": [
    {
     "name": "stdout",
     "output_type": "stream",
     "text": [
      "Property with highest price: engel volkers torrelodones in El Escorial ($8500000)\n"
     ]
    }
   ],
   "source": [
    "# Get index of the highest price\n",
    "\n",
    "idx_max = ds['price'].idxmax()\n",
    "\n",
    "# Get property name, address and price\n",
    "\n",
    "realEstate_max = ds.loc[idx_max,'realEstate_name']\n",
    "address_max    = ds.loc[idx_max,'address']\n",
    "price_max      = ds.loc[idx_max, 'price']\n",
    "\n",
    "# Print result\n",
    "\n",
    "print(f\"Property with highest price: {realEstate_max} in {address_max} (${price_max})\")\n"
   ]
  },
  {
   "attachments": {},
   "cell_type": "markdown",
   "id": "lesser-cosmetic",
   "metadata": {},
   "source": [
    "#### Exercise 02. Which is the cheapest house in the dataset? (★☆☆)\n",
    "\n",
    "Print the address and the price of the selected house. For example:\n",
    "\n",
    "`The house with address Concrete Street Nº1 is the cheapest and its price is 12000 USD`"
   ]
  },
  {
   "cell_type": "code",
   "execution_count": 3,
   "id": "lovely-oasis",
   "metadata": {},
   "outputs": [
    {
     "name": "stdout",
     "output_type": "stream",
     "text": [
      "Property with lowest price: esalje in Parla ($0)\n"
     ]
    }
   ],
   "source": [
    "# Get index of the lowest price\n",
    "\n",
    "idx_min = ds['price'].idxmin()\n",
    "\n",
    "# Get property name, address and price\n",
    "\n",
    "realEstate_min = ds.loc[idx_min,'realEstate_name']\n",
    "address_min    = ds.loc[idx_min,'address']\n",
    "price_min      = ds.loc[idx_min, 'price']\n",
    "\n",
    "# Print result\n",
    "\n",
    "print(f\"Property with lowest price: {realEstate_min} in {address_min} (${price_min})\")"
   ]
  },
  {
   "attachments": {},
   "cell_type": "markdown",
   "id": "compliant-fellowship",
   "metadata": {},
   "source": [
    "#### Exercise 03. Which is the biggest and the smallest house in the dataset? (★☆☆)\n",
    "\n",
    "Print both the address and the surface of the selected houses. For example:\n",
    "\n",
    "`The biggest house is located on Yukka Street Nº10 and its surface is 5000 meters`\n",
    "\n",
    "`The smallest house is located on County Road 1 N and its surface is 200 meters`"
   ]
  },
  {
   "cell_type": "code",
   "execution_count": 4,
   "id": "every-tiffany",
   "metadata": {},
   "outputs": [
    {
     "name": "stdout",
     "output_type": "stream",
     "text": [
      "The house with the largest surface is located in Sevilla la Nueva with a surface of 249000.0 m2\n",
      "The house with the smallest surface is located in Calle Amparo,  Madrid Capital with a surface of 15.0 m2\n"
     ]
    }
   ],
   "source": [
    "# Get index of the largest and smallest surface\n",
    "\n",
    "idx_max = ds['surface'].idxmax()\n",
    "idx_min = ds['surface'].idxmin()\n",
    "\n",
    "# Get property address and surface\n",
    "\n",
    "address_max    = ds.loc[idx_max,'address']\n",
    "address_min    = ds.loc[idx_min,'address']\n",
    "surface_max    = ds.loc[idx_max,'surface']\n",
    "surface_min    = ds.loc[idx_min,'surface']\n",
    "\n",
    "# Print result\n",
    "\n",
    "print(f\"The house with the largest surface is located in {address_max} with a surface of {surface_max} m2\")\n",
    "print(f\"The house with the smallest surface is located in {address_min} with a surface of {surface_min} m2\")"
   ]
  },
  {
   "attachments": {},
   "cell_type": "markdown",
   "id": "danish-spirit",
   "metadata": {},
   "source": [
    "#### Exercise 04. How many populations (level5 column) the dataset contains? (★☆☆)\n",
    "\n",
    "Print the names of the populations with a comma as a separator. For example:\n",
    "\n",
    "`> print(populations)`\n",
    "\n",
    "`population1, population2, population3, ...`"
   ]
  },
  {
   "cell_type": "code",
   "execution_count": 5,
   "id": "exciting-accreditation",
   "metadata": {},
   "outputs": [
    {
     "name": "stdout",
     "output_type": "stream",
     "text": [
      "Fuenlabrada, Boadilla del Monte, Las Rozas de Madrid,  Madrid Capital, Villaviciosa de Odón, Pinto, Valdemoro, Navalcarnero, Pozuelo de Alarcón, Torrejón de Ardoz, Navalagamella, San Sebastián de los Reyes, Rivas-vaciamadrid, Alpedrete, Móstoles, San Fernando de Henares, Coslada, Becerril de la Sierra, Alcalá de Henares, Chinchón, Parla, Alcorcón, El Escorial, Leganés, Pedrezuela, Majadahonda, Villanueva de la Cañada, Villanueva del Pardillo, Torrelodones, Moralzarzal, Mejorada del Campo, Aranjuez, Corpa, Getafe, Velilla de San Antonio, Sevilla la Nueva, San Martín de la Vega, Villalbilla, Collado Villalba, Alcobendas, El Molar (Madrid), Moraleja de Enmedio, Algete, Campo Real, Torrejón de la Calzada, Colmenar Viejo, Valdemorillo, Fuente El Saz de Jarama, Tres Cantos, Arroyomolinos (Madrid), Griñón, Paracuellos de Jarama, Guadarrama, Titulcia, Galapagar, Collado Mediano, Los Molinos, San Lorenzo de El Escorial, Loeches, San Martín de Valdeiglesias, Navas del Rey, Bustarviejo, Manzanares El Real, Carabaña, Casarrubuelos, Cercedilla, Fresnedillas de la Oliva, Valdemaqueda, Robledo de Chavela, Miraflores de la Sierra, Humanes de Madrid, Valdetorres de Jarama, San Agustín del Guadalix, Ciempozuelos, Camarma de Esteruelas, Torres de la Alameda, Talamanca de Jarama, El Atazar, Hoyo de Manzanares, El Boalo - Cerceda – Mataelpino, El Álamo, Valdilecha, Valdeolmos-Alalpardo, Guadalix de la Sierra, Belmonte de Tajo, El Vellón, Brunete, Redueña, Morata de Tajuña, Tielmes, Gargantilla del Lozoya, Meco, Venturada, Quijorna, Cenicientos, Torrejón de Velasco, Navacerrada, Santa María de la Alameda, Orusco de Tajuña, Daganzo de Arriba, Villamanta, Anchuelo, Valdaracete, Ajalvir, Los Santos de la Humosa, Villamanrique de Tajo, Colmenar de Oreja, Villa del Prado, Fuentidueña de Tajo, Colmenar del Arroyo, Valdelaguna, Cubas de la Sagra, Valdeavero, Aldea del Fresno, Ribatejada, Torrelaguna, Batres, Pezuela de las Torres, Colmenarejo, Serranillos del Valle, Cobeña, Soto del Real, El Berrueco, Villanueva de Perales, Fresno de Torote - Serracines, Pozuelo del Rey, Pelayos de la Presa, La Cabrera, Nuevo Baztán, Perales de Tajuña, Villaconejos, Villarejo de Salvanés, Cadalso de los Vidrios, Santorcaz, Madarcos, Garganta de los Montes, Puentes Viejas, Torremocha de Jarama, Valdemanco, Braojos, Lozoyuela-navas-sieteiglesias, Piñuécar-gandullas, Valdepiélagos, Valverde de Alcalá, Villar del Olmo, Villamantilla, Horcajo de la Sierra, Gascones, Zarzalejo, Villavieja del Lozoya, Brea de Tajo, Estremera, Chapinería, Navarredonda, Patones, Ambite, Navalafuente, Lozoya, Canencia, Cabanillas de la Sierra, Buitrago del Lozoya, Fresno de Torote, Robregordo, Pinilla del Valle, Rascafría, La Hiruela, Montejo de la Sierra, "
     ]
    }
   ],
   "source": [
    "# Get all unique location names\n",
    "\n",
    "locations = ds[\"level5\"].dropna().unique()\n",
    "\n",
    "# Loop through every location name in the array to print it in the required format\n",
    "\n",
    "for i in range(1,len(locations)):\n",
    "    print(locations[i], end=', ')"
   ]
  },
  {
   "attachments": {},
   "cell_type": "markdown",
   "id": "crazy-blame",
   "metadata": {},
   "source": [
    "#### Exercise 05. Does the dataset contain NAs? (★☆☆)\n",
    "\n",
    "Print a boolean value (`True` or `False`) followed by the rows/cols that contains NAs."
   ]
  },
  {
   "cell_type": "code",
   "execution_count": 6,
   "id": "transparent-poetry",
   "metadata": {},
   "outputs": [
    {
     "name": "stdout",
     "output_type": "stream",
     "text": [
      "True\n",
      "Rows with NA values:        id_realEstates  isNew                    realEstate_name  \\\n",
      "0           153771986  False            ferrari 57 inmobiliaria   \n",
      "1           153867863  False  tecnocasa fuenlabrada ferrocarril   \n",
      "2           153430440  False                 look find boadilla   \n",
      "3           152776331  False  tecnocasa fuenlabrada ferrocarril   \n",
      "4           153180188  False            ferrari 57 inmobiliaria   \n",
      "...               ...    ...                                ...   \n",
      "15330       153901377  False                infocasa consulting   \n",
      "15331       150394373  False                inmobiliaria pulpon   \n",
      "15332       153901397  False             tecnocasa torrelodones   \n",
      "15333       152607440  False                inmobiliaria pulpon   \n",
      "15334       153901356  False                infocasa consulting   \n",
      "\n",
      "       phone_realEstate                                       url_inmueble  \\\n",
      "0           912177526.0  https://www.fotocasa.es/es/comprar/vivienda/ma...   \n",
      "1           916358736.0  https://www.fotocasa.es/es/comprar/vivienda/ma...   \n",
      "2           916350408.0  https://www.fotocasa.es/es/comprar/vivienda/ma...   \n",
      "3           916358736.0  https://www.fotocasa.es/es/comprar/vivienda/ma...   \n",
      "4           912177526.0  https://www.fotocasa.es/es/comprar/vivienda/ma...   \n",
      "...                 ...                                                ...   \n",
      "15330       911360461.0  https://www.fotocasa.es/es/comprar/vivienda/ma...   \n",
      "15331       912788039.0  https://www.fotocasa.es/es/comprar/vivienda/ma...   \n",
      "15332       912780348.0  https://www.fotocasa.es/es/comprar/vivienda/ma...   \n",
      "15333       912788039.0  https://www.fotocasa.es/es/comprar/vivienda/ma...   \n",
      "15334       911360461.0  https://www.fotocasa.es/es/comprar/vivienda/ma...   \n",
      "\n",
      "       rooms  bathrooms  surface   price                          date  ...  \\\n",
      "0        3.0        2.0    103.0  195000  2019-12-28T18:27:15.9975027Z  ...   \n",
      "1        3.0        1.0      NaN   89000  2019-12-28T18:27:15.9975027Z  ...   \n",
      "2        2.0        2.0     99.0  390000  2019-12-28T18:27:15.9975027Z  ...   \n",
      "3        3.0        1.0     86.0   89000  2019-12-28T18:27:15.9975027Z  ...   \n",
      "4        2.0        2.0    106.0  172000  2019-12-28T18:27:15.9975027Z  ...   \n",
      "...      ...        ...      ...     ...                           ...  ...   \n",
      "15330    2.0        1.0     96.0  259470          2019-12-17T18:19:00Z  ...   \n",
      "15331    3.0        1.0    150.0  165000          2019-12-17T18:19:00Z  ...   \n",
      "15332    4.0        2.0    175.0  495000          2019-12-17T18:19:00Z  ...   \n",
      "15333    3.0        2.0    101.0  195000          2019-12-17T18:18:00Z  ...   \n",
      "15334    3.0        2.0    152.0  765000          2019-12-17T18:17:00Z  ...   \n",
      "\n",
      "      level4Id level5Id level6Id level7Id level8Id accuracy          latitude  \\\n",
      "0            0        0        0        0        0        0  40,2948276786438   \n",
      "1            0        0        0        0        0        1          40,28674   \n",
      "2            0        0        0        0        0        0  40,4115646786438   \n",
      "3            0        0        0        0        0        0  40,2853785786438   \n",
      "4            0        0        0        0        0        0  40,2998774864376   \n",
      "...        ...      ...      ...      ...      ...      ...               ...   \n",
      "15330        0        0        0        0        0        0          40,45416   \n",
      "15331        0        0        0        0        0        0          40,36652   \n",
      "15332        0        0        0        0        0        0          40,57444   \n",
      "15333        0        0        0        0        0        0          40,36967   \n",
      "15334        0        0        0        0        0        0          40,45773   \n",
      "\n",
      "               longitude zipCode customZone  \n",
      "0      -3,44402412135624     NaN        NaN  \n",
      "1               -3,79351     NaN        NaN  \n",
      "2      -3,90662252135624     NaN        NaN  \n",
      "3      -3,79508142135624     NaN        NaN  \n",
      "4      -3,45226301356237     NaN        NaN  \n",
      "...                  ...     ...        ...  \n",
      "15330           -3,70286     NaN        NaN  \n",
      "15331           -3,48951     NaN        NaN  \n",
      "15332           -3,92124     NaN        NaN  \n",
      "15333           -3,48105     NaN        NaN  \n",
      "15334           -3,69068     NaN        NaN  \n",
      "\n",
      "[15335 rows x 36 columns]\n",
      "Columns with NA values: ['realEstate_name', 'phone_realEstate', 'rooms', 'bathrooms', 'surface', 'description', 'level4', 'level6', 'level7', 'level8', 'zipCode', 'customZone']\n"
     ]
    }
   ],
   "source": [
    "# Remove Unnamed: 0 column\n",
    "\n",
    "ds = ds.drop(columns=[\"Unnamed: 0\"])\n",
    "\n",
    "# Check if any NA values exist in the DataFrame\n",
    "\n",
    "isNA = ds.isnull().any().any()\n",
    "print(isNA)\n",
    "\n",
    "# Print rows containing NA values\n",
    "\n",
    "rowsNA = ds[ds.isnull().any(axis=1)]\n",
    "print(f\"Rows with NA values: {rowsNA}\")\n",
    "\n",
    "# Print columns containing NA values\n",
    "\n",
    "colsNA = ds.columns[ds.isnull().any(axis=0)].tolist()\n",
    "print(f\"Columns with NA values: {colsNA}\")\n"
   ]
  },
  {
   "attachments": {},
   "cell_type": "markdown",
   "id": "italic-hydrogen",
   "metadata": {},
   "source": [
    "#### Exercise 06. Delete the NAs of the dataset, if applicable (★★☆)\n",
    "\n",
    "Print a comparison between the dimensions of the original DataFrame versus the DataFrame after the deletions."
   ]
  },
  {
   "cell_type": "code",
   "execution_count": 7,
   "id": "administrative-roads",
   "metadata": {},
   "outputs": [
    {
     "name": "stdout",
     "output_type": "stream",
     "text": [
      "552060\n",
      "0\n"
     ]
    },
    {
     "data": {
      "text/plain": [
       "(None, None)"
      ]
     },
     "execution_count": 7,
     "metadata": {},
     "output_type": "execute_result"
    }
   ],
   "source": [
    "woNAds = ds.dropna(how='any')\n",
    "print(ds.size), print(woNAds.size)\n"
   ]
  },
  {
   "attachments": {},
   "cell_type": "markdown",
   "id": "middle-china",
   "metadata": {},
   "source": [
    "#### Exercise 07. Which is the mean of prices in the population (level5 column) of \"Arroyomolinos (Madrid)\"? (★★☆)\n",
    "\n",
    "Print the obtained value."
   ]
  },
  {
   "cell_type": "code",
   "execution_count": 8,
   "id": "nuclear-belief",
   "metadata": {},
   "outputs": [
    {
     "name": "stdout",
     "output_type": "stream",
     "text": [
      "The average property price in Arroyomolinos (Madrid) is: $294541.60 +/- $84183.52\n"
     ]
    }
   ],
   "source": [
    "# Get all indexes that match the location name\n",
    "\n",
    "locIdx  = ds.index[ds['level5']==\"Arroyomolinos (Madrid)\"]\n",
    "\n",
    "# Get data of prices and use the arithmetic mean to get the average price\n",
    "\n",
    "avgPrice = ds.loc[locIdx,'price'].mean()\n",
    "stdPrice = ds.loc[locIdx,'price'].std()\n",
    "\n",
    "print(f'The average property price in Arroyomolinos (Madrid) is: ${avgPrice:.2f} +/- ${stdPrice:.2f}')"
   ]
  },
  {
   "attachments": {},
   "cell_type": "markdown",
   "id": "concerned-radical",
   "metadata": {},
   "source": [
    "#### Exercise 08. Plot the histogram of prices for the population (level5 column) of \"Arroyomolinos (Madrid)\" and explain what you observe (★★☆)\n",
    "\n",
    "Print the histogram of the prices and write in the Markdown cell a brief analysis about the plot."
   ]
  },
  {
   "cell_type": "code",
   "execution_count": 9,
   "id": "sudden-message",
   "metadata": {},
   "outputs": [
    {
     "name": "stdout",
     "output_type": "stream",
     "text": [
      "13\n"
     ]
    },
    {
     "data": {
      "image/png": "[encoded data removed]",
      "text/plain": [
       "<Figure size 640x480 with 1 Axes>"
      ]
     },
     "metadata": {},
     "output_type": "display_data"
    }
   ],
   "source": [
    "# Get prices\n",
    "\n",
    "priceLvl5 = ds.loc[locIdx,'price'].tolist()\n",
    "\n",
    "## Set the number of bins. Use the Freedman-Diaconis rule ##\n",
    "\n",
    "orderedPriceLvl5 = sorted(priceLvl5)\n",
    "\n",
    "# Find the Q1, Q2, and Q3\n",
    "\n",
    "Q2 = np.median(orderedPriceLvl5)\n",
    "Q1 = np.median(orderedPriceLvl5[0:orderedPriceLvl5.index(Q2)])\n",
    "Q3 = np.median(orderedPriceLvl5[orderedPriceLvl5.index(Q2):len(orderedPriceLvl5)])\n",
    "\n",
    "# Compute the IQR\n",
    "\n",
    "IQR = Q3 - Q1\n",
    "\n",
    "# Compute the optimal number of bins\n",
    "\n",
    "h = 2 * IQR * len(orderedPriceLvl5)**(-1/3) # This is the width of the histogram bar\n",
    "\n",
    "nBins = int(np.round((np.max(orderedPriceLvl5) - np.min(orderedPriceLvl5))/h)) # Number of bins that minimize the difference with the underlying probibility distribution function\n",
    "\n",
    "print(nBins)\n",
    "\n",
    "queried = ds[ds['level5'] == \"Arroyomolinos (Madrid)\"]\n",
    "\n",
    "# Plot histogram\n",
    "\n",
    "plt.hist(orderedPriceLvl5,bins=nBins)\n",
    "plt.xlabel(\"Prices in Arroyomolinos (Madrid)\")\n",
    "plt.ylabel('Frequency of prices in Arroyomolinos (Madrid)')\n",
    "plt.grid()\n",
    "plt.show()"
   ]
  },
  {
   "attachments": {},
   "cell_type": "markdown",
   "id": "impressed-combination",
   "metadata": {},
   "source": [
    "**TODO: Markdown**. To write here, double-click on this cell, remove this content and place the text you want to write. Then, execute the cell."
   ]
  },
  {
   "cell_type": "markdown",
   "id": "01588759",
   "metadata": {},
   "source": [
    "The prices in the area of Arroyomolinos (Madrid) seem to follow a normal distribution with an average price in the area of $$\\text{price}_{\\text{Arroyomolinos}} = \\mu \\pm \\sigma = 294541.60 \\pm 84183.52 \\$ $$\n",
    "\n",
    "There is also a gap in prices between properties with values 15000 USD and 5000 USD, suggesting that these cheap properties seem to be outliers within the population, as their prices lie outside of $\\mu - 3\\sigma$. The frequency of high price properties is low sitting at the rightmost tail of the distribution."
   ]
  },
  {
   "attachments": {},
   "cell_type": "markdown",
   "id": "actual-edinburgh",
   "metadata": {},
   "source": [
    "#### Exercise 09. Are the average prices of \"Valdemorillo\" and \"Galapagar\" the same? (★★☆)\n",
    "\n",
    "Print both average prices and then write a conclusion about them."
   ]
  },
  {
   "cell_type": "code",
   "execution_count": 10,
   "id": "numeric-commerce",
   "metadata": {},
   "outputs": [
    {
     "name": "stdout",
     "output_type": "stream",
     "text": [
      "363860.29\n",
      "360063.20\n"
     ]
    },
    {
     "data": {
      "text/plain": [
       "(None, None)"
      ]
     },
     "execution_count": 10,
     "metadata": {},
     "output_type": "execute_result"
    }
   ],
   "source": [
    "avgPriceValdemorillo = ds[ds['level5']=='Valdemorillo']['price'].mean()\n",
    "avgPriceGalapagar    = ds[ds['level5']=='Galapagar']['price'].mean()\n",
    "\n",
    "print(f'{avgPriceValdemorillo:0.2f}'), print(f'{avgPriceGalapagar:0.2f}')"
   ]
  },
  {
   "cell_type": "markdown",
   "id": "0b9a47e5",
   "metadata": {},
   "source": [
    "The average price in Valdemorillo is slight higher than the average price in Galapagar. However, the difference of the average prices only adds up to approximately 4k USD. This suggests that both are comparable areas in terms of prices offering houses of similar quality. Furthermore, based on the histogram obtained in question 8, these two areas are above the average and the median of the price distribution curve."
   ]
  },
  {
   "attachments": {},
   "cell_type": "markdown",
   "id": "lonely-article",
   "metadata": {},
   "source": [
    "#### Exercise 10. Are the average prices per square meter (price/m2) of \"Valdemorillo\" and \"Galapagar\" the same? (★★☆)\n",
    "\n",
    "Print both average prices and then write a conclusion about it.\n",
    "\n",
    "Hint: Create a new column called `pps` (price per square meter) and then analyze the values."
   ]
  },
  {
   "cell_type": "code",
   "execution_count": 11,
   "id": "hourly-globe",
   "metadata": {},
   "outputs": [
    {
     "name": "stdout",
     "output_type": "stream",
     "text": [
      "1317.95\n",
      "1606.32\n"
     ]
    },
    {
     "data": {
      "text/plain": [
       "(None, None)"
      ]
     },
     "execution_count": 11,
     "metadata": {},
     "output_type": "execute_result"
    }
   ],
   "source": [
    "# Computing the price per square meter of each property and finding their mean value in Valdemorillo and Galapagar\n",
    "# Note that we find the mean of each price/m2. The mean of the division is, in general, not equal to division of \n",
    "# the means.\n",
    "\n",
    "avgPriceM2Valdemorillo = ds[ds['level5']=='Valdemorillo']['price']/ds[ds['level5']=='Valdemorillo']['surface']\n",
    "avgPriceM2Valdemorillo = avgPriceM2Valdemorillo.mean()\n",
    "avgPriceM2Galapagar    = ds[ds['level5']=='Galapagar']['price']/ds[ds['level5']=='Galapagar']['surface']\n",
    "avgPriceM2Galapagar    = avgPriceM2Galapagar.mean()\n",
    "\n",
    "print(f'{avgPriceM2Valdemorillo:0.2f}'), print(f'{avgPriceM2Galapagar:0.2f}')"
   ]
  },
  {
   "cell_type": "markdown",
   "id": "85229158",
   "metadata": {},
   "source": [
    "The mean price per square meter of Galapagar is slightly larger than the price per square meter of Valdemorillo by a margin of approximately 300k USD. However, we had seen before that the mean price in Valdemorillo is, conversely, larger than the mean price in Galapagar. Thus, we can conclude that the properties in Valdemorillo are on average larger (in terms of surface area) than the properties in Galapagar.\n",
    "\n",
    "We verify our assessment in the next piece of code:"
   ]
  },
  {
   "cell_type": "code",
   "execution_count": 12,
   "id": "b054568a",
   "metadata": {},
   "outputs": [
    {
     "name": "stdout",
     "output_type": "stream",
     "text": [
      "The mean surface value in Valdemorillo is 350.02 m2\n",
      "The mean surface value in Galapagar is 305.52 m2\n"
     ]
    }
   ],
   "source": [
    "# Verify our conclusion on larger properties in Valdemorillo than in Galapagar\n",
    "\n",
    "avgSurfaceValdemorillo = ds[ds['level5']=='Valdemorillo']['surface'].mean()\n",
    "avgSurfaceGalapagar    = ds[ds['level5']=='Galapagar']['surface'].mean()\n",
    "\n",
    "print(f'The mean surface value in Valdemorillo is {avgSurfaceValdemorillo:0.2f} m2')\n",
    "print(f'The mean surface value in Galapagar is {avgSurfaceGalapagar:0.2f} m2')"
   ]
  },
  {
   "attachments": {},
   "cell_type": "markdown",
   "id": "pleasant-invite",
   "metadata": {},
   "source": [
    "#### Exercise 11. Analyze the relation between the surface and the price of the houses (★★☆)\n",
    "\n",
    "Hint: You can make a `scatter plot`, then write a conclusion about it."
   ]
  },
  {
   "cell_type": "code",
   "execution_count": 13,
   "id": "common-drilling",
   "metadata": {},
   "outputs": [
    {
     "data": {
      "image/png": "[encoded data removed]",
      "text/plain": [
       "<Figure size 640x480 with 1 Axes>"
      ]
     },
     "metadata": {},
     "output_type": "display_data"
    }
   ],
   "source": [
    "# Create data frame with only the necessary columns to analyze and clean the data from NaN and outliers\n",
    "# here we chose (3000 m2 as the threshold to trim the data)\n",
    "\n",
    "priceSurfaceData = ds[['surface','price']]\n",
    "priceSurfaceData = priceSurfaceData.dropna()\n",
    "priceSurfaceData = priceSurfaceData[priceSurfaceData['surface']<3000]\n",
    "\n",
    "# Plot the data in a scatter plot\n",
    "\n",
    "def confidence_ellipse(x, y, ax, n_std=3.0, facecolor='none', **kwargs):\n",
    "    \"\"\"\n",
    "    Create a plot of the covariance confidence ellipse of *x* and *y*.\n",
    "\n",
    "    Parameters\n",
    "    ----------\n",
    "    x, y : array-like, shape (n, )\n",
    "        Input data.\n",
    "\n",
    "    ax : matplotlib.axes.Axes\n",
    "        The Axes object to draw the ellipse into.\n",
    "\n",
    "    n_std : float\n",
    "        The number of standard deviations to determine the ellipse's radiuses.\n",
    "\n",
    "    **kwargs\n",
    "        Forwarded to `~matplotlib.patches.Ellipse`\n",
    "\n",
    "    Returns\n",
    "    -------\n",
    "    matplotlib.patches.Ellipse\n",
    "    \"\"\"\n",
    "    if x.size != y.size:\n",
    "        raise ValueError(\"x and y must be the same size\")\n",
    "\n",
    "    cov     = np.cov(x, y)\n",
    "    pearson = cov[0,1]/(np.sqrt(cov[0, 0]) * np.sqrt(cov[1, 1]))\n",
    "\n",
    "    ell_radius_x = np.sqrt(1 + pearson)\n",
    "    ell_radius_y = np.sqrt(1 - pearson)\n",
    "    ellipse      = elip((0,0), width=ell_radius_x, height=ell_radius_y,\n",
    "                      facecolor=facecolor, **kwargs)\n",
    "\n",
    "    # Calculating the standard deviation of x from\n",
    "    # the squareroot of the variance and multiplying\n",
    "    # with the given number of standard deviations.\n",
    "\n",
    "    scale_x = 2 * np.sqrt(cov[0, 0]) * n_std\n",
    "    mean_x  = np.mean(x)\n",
    "\n",
    "    # calculating the standard deviation of y ...\n",
    "    scale_y = 2 * np.sqrt(cov[1, 1]) * n_std\n",
    "    mean_y  = np.mean(y)\n",
    "\n",
    "    transf = trns.Affine2D() \\\n",
    "        .rotate_deg(45) \\\n",
    "        .scale(scale_x, scale_y) \\\n",
    "        .translate(mean_x, mean_y) \\\n",
    "\n",
    "    ellipse.set_transform(transf + ax.transData)\n",
    "    return ax.add_patch(ellipse)\n",
    "\n",
    "fig, axs = plt.subplots(1, 1)\n",
    "\n",
    "plt.scatter(priceSurfaceData['surface'],priceSurfaceData['price'],marker='o',c='blue',s=1)\n",
    "plt.plot(np.mean(priceSurfaceData['surface']),np.mean(priceSurfaceData['price']),marker='o', color='red', markersize=2)\n",
    "confidence_ellipse(priceSurfaceData['surface'],priceSurfaceData['price'], axs, edgecolor='red')\n",
    "\n",
    "plt.xlabel('Surface [m$^2$]')\n",
    "plt.ylabel('Price [USD]')\n",
    "plt.grid()\n",
    "plt.show()\n",
    "\n"
   ]
  },
  {
   "attachments": {},
   "cell_type": "markdown",
   "id": "ahead-liquid",
   "metadata": {},
   "source": [
    "The data exhibits a positive correlation as expected, where larger surface area leads to an increase in prices. However, the data cloud seems to form two tails with different slopes, one with steeper price increases for small variations in the surface axis, while in the other, the prices grow less rapidly with increases in the surface axis. Nontheless, most of the data is clustered in the set $$\\text{Surface} \\times \\text{Price} = [0, \\enspace 500] \\text{ m}^2 \\times [0, \\enspace 2e6] \\text{ USD} $$ for $3 \\sigma$, i.e., 99.7 \\% of the data as shown in the ellipse with center $\\Big(\\mu(\\text{Surface}),\\mu(\\text{Price})\\Big)$\n"
   ]
  },
  {
   "attachments": {},
   "cell_type": "markdown",
   "id": "coordinate-sunrise",
   "metadata": {},
   "source": [
    "#### Exercise 12. How many real estate agencies does the dataset contain? (★★☆)\n",
    "\n",
    "Print the obtained value."
   ]
  },
  {
   "cell_type": "code",
   "execution_count": 14,
   "id": "valid-honolulu",
   "metadata": {},
   "outputs": [
    {
     "name": "stdout",
     "output_type": "stream",
     "text": [
      "There are 1821 real estate agencies in the data\n"
     ]
    }
   ],
   "source": [
    "# Group the data per real estate agencies and sum the number of distinct groups\n",
    "\n",
    "realEstateAgency = ds.groupby(by='realEstate_name').sum()\n",
    "print(f'There are {len(realEstateAgency)} real estate agencies in the data')"
   ]
  },
  {
   "attachments": {},
   "cell_type": "markdown",
   "id": "binding-ebony",
   "metadata": {},
   "source": [
    "#### Exercise 13. Which is the population (level5 column) that contains the most houses? (★★☆)\n",
    "\n",
    "Print both the population and the number of houses."
   ]
  },
  {
   "cell_type": "code",
   "execution_count": 15,
   "id": "static-perry",
   "metadata": {},
   "outputs": [
    {
     "name": "stdout",
     "output_type": "stream",
     "text": [
      "The location with the most houses is  Madrid Capital with 6643 properties\n"
     ]
    }
   ],
   "source": [
    "# Count the data samples in level 5 (locations in Spain)\n",
    "\n",
    "locationMaxHouses     = ds.value_counts('level5')\n",
    "print(f'The location with the most houses is {locationMaxHouses.index[0]} with {locationMaxHouses.iloc[0]} properties')"
   ]
  },
  {
   "attachments": {},
   "cell_type": "markdown",
   "id": "entire-classification",
   "metadata": {},
   "source": [
    "#### Exercise 14. Now let's work with the \"south belt\" of Madrid. Make a subset of the original DataFrame that contains the following populations (level5 column): \"Fuenlabrada\", \"Leganés\", \"Getafe\", \"Alcorcón\" (★★☆)\n",
    "\n",
    "Hint: Filter the original DataFrame using the column `level5` and the function `isin`."
   ]
  },
  {
   "cell_type": "code",
   "execution_count": 16,
   "id": "binary-input",
   "metadata": {},
   "outputs": [
    {
     "name": "stdout",
     "output_type": "stream",
     "text": [
      "Filtered data with the south belt locations:\n",
      "        id_realEstates  isNew                            realEstate_name  \\\n",
      "1           153867863  False          tecnocasa fuenlabrada ferrocarril   \n",
      "3           152776331  False          tecnocasa fuenlabrada ferrocarril   \n",
      "85          153152077  False                    sinergical inmobiliaria   \n",
      "94          153995577  False                            viviendas365com   \n",
      "109         153586414  False            area uno asesores inmobiliarios   \n",
      "...               ...    ...                                        ...   \n",
      "15275       153903887  False  aliseda servicios de gestion inmobiliaria   \n",
      "15291       151697757  False                                    unipiso   \n",
      "15305       153902389  False                             jadein ferrero   \n",
      "15322       153871864  False                          gestion comercial   \n",
      "15325       153901467  False                              montehogar 68   \n",
      "\n",
      "       phone_realEstate                                       url_inmueble  \\\n",
      "1           916358736.0  https://www.fotocasa.es/es/comprar/vivienda/ma...   \n",
      "3           916358736.0  https://www.fotocasa.es/es/comprar/vivienda/ma...   \n",
      "85                  NaN  https://www.fotocasa.es/es/comprar/vivienda/le...   \n",
      "94          911226014.0  https://www.fotocasa.es/es/comprar/vivienda/le...   \n",
      "109         912664081.0  https://www.fotocasa.es/es/comprar/vivienda/ma...   \n",
      "...                 ...                                                ...   \n",
      "15275       911368198.0  https://www.fotocasa.es/es/comprar/vivienda/al...   \n",
      "15291       912788631.0  https://www.fotocasa.es/es/comprar/vivienda/al...   \n",
      "15305       914871639.0  https://www.fotocasa.es/es/comprar/vivienda/ma...   \n",
      "15322       911220662.0  https://www.fotocasa.es/es/comprar/vivienda/ma...   \n",
      "15325       911790675.0  https://www.fotocasa.es/es/comprar/vivienda/ma...   \n",
      "\n",
      "       rooms  bathrooms  surface   price                          date  ...  \\\n",
      "1        3.0        1.0      NaN   89000  2019-12-28T18:27:15.9975027Z  ...   \n",
      "3        3.0        1.0     86.0   89000  2019-12-28T18:27:15.9975027Z  ...   \n",
      "85       1.0        1.0     50.0  107000   2019-12-28T18:30:53.960102Z  ...   \n",
      "94       3.0        2.0    120.0  320000   2019-12-28T18:30:53.960102Z  ...   \n",
      "109      3.0        3.0    142.0  425000  2019-12-28T18:32:32.5337942Z  ...   \n",
      "...      ...        ...      ...     ...                           ...  ...   \n",
      "15275    3.0        1.0     78.0  138000          2019-12-17T19:02:00Z  ...   \n",
      "15291    3.0        2.0    110.0  279000          2019-12-17T18:57:00Z  ...   \n",
      "15305    3.0        2.0     85.0  170000          2019-12-17T18:43:00Z  ...   \n",
      "15322    3.0        1.0     91.0  112000          2019-12-17T18:25:00Z  ...   \n",
      "15325    2.0        2.0     99.0  215000          2019-12-17T18:24:00Z  ...   \n",
      "\n",
      "      level4Id level5Id level6Id level7Id level8Id accuracy          latitude  \\\n",
      "1            0        0        0        0        0        1          40,28674   \n",
      "3            0        0        0        0        0        0  40,2853785786438   \n",
      "85           0        0        0        0        0        1          40,35059   \n",
      "94           0        0        0        0        0        0          40,31933   \n",
      "109          0        0        0        0        0        0        40,3313411   \n",
      "...        ...      ...      ...      ...      ...      ...               ...   \n",
      "15275        0        0        0        0        0        1          40,31381   \n",
      "15291        0        0        0        0        0        0        40,3259051   \n",
      "15305        0        0        0        0        0        0        40,2882193   \n",
      "15322        0        0        0        0        0        0          40,28282   \n",
      "15325        0        0        0        0        0        1          40,28062   \n",
      "\n",
      "               longitude zipCode customZone  \n",
      "1               -3,79351     NaN        NaN  \n",
      "3      -3,79508142135624     NaN        NaN  \n",
      "85              -3,82693     NaN        NaN  \n",
      "94              -3,77574     NaN        NaN  \n",
      "109           -3,8313868     NaN        NaN  \n",
      "...                  ...     ...        ...  \n",
      "15275           -3,83733     NaN        NaN  \n",
      "15291           -3,76318     NaN        NaN  \n",
      "15305         -3,8098617     NaN        NaN  \n",
      "15322           -3,78892     NaN        NaN  \n",
      "15325           -3,79869     NaN        NaN  \n",
      "\n",
      "[907 rows x 36 columns]\n"
     ]
    }
   ],
   "source": [
    "# Check if the 'level5' column contains 'Fuenlabrada', 'Leganés', 'Getafe', 'Alcorcón'\n",
    "locationsToCheck = ['Fuenlabrada', 'Leganés', 'Getafe', 'Alcorcón']\n",
    "\n",
    "# Filter the data frame\n",
    "southBelt        = ds[ds['level5'].isin(locationsToCheck)]\n",
    "print(f'Filtered data with the south belt locations:\\n {southBelt}')"
   ]
  },
  {
   "attachments": {},
   "cell_type": "markdown",
   "id": "severe-fisher",
   "metadata": {},
   "source": [
    "#### Exercise 15. Make a bar plot of the median of the prices and explain what you observe (you must use the subset obtained in Exercise 14) (★★★)\n",
    "\n",
    "Print the bar of the median of the prices and write in the Markdown cell a brief analysis about the plot."
   ]
  },
  {
   "cell_type": "code",
   "execution_count": 17,
   "id": "lyric-bunch",
   "metadata": {},
   "outputs": [
    {
     "name": "stdout",
     "output_type": "stream",
     "text": [
      "[0. 0. 0. 0.]\n",
      "[155000. 169950. 285305. 179500.]\n"
     ]
    },
    {
     "data": {
      "image/png": "[encoded data removed]",
      "text/plain": [
       "<Figure size 640x480 with 1 Axes>"
      ]
     },
     "metadata": {},
     "output_type": "display_data"
    }
   ],
   "source": [
    "# Get the median prices per location\n",
    "southBeltGroups      = southBelt.groupby(by='level5')[['price']].apply(lambda x: x)\n",
    "\n",
    "# Get the median price of each group\n",
    "southBeltMedianPrice = np.zeros(4) # Set an array of zeros\n",
    "print(southBeltMedianPrice)\n",
    "places =  ['Fuenlabrada', 'Leganés', 'Getafe', 'Alcorcón'] # Name of places to iterate over (name of the filtered data frame indexes)\n",
    "for place in places:\n",
    "    southBeltMedianPrice[places.index(place)] = np.median(southBeltGroups.loc[place,'price'])\n",
    "\n",
    "# Print the array of data with median prices\n",
    "print(southBeltMedianPrice)\n",
    "\n",
    "# Make the bar plot\n",
    "bar_colors = ['tab:blue', 'tab:red', 'tab:green', 'tab:purple']\n",
    "plt.subplots()\n",
    "plt.bar(places,southBeltMedianPrice,color=bar_colors)\n",
    "plt.xlabel('South belt locations')\n",
    "plt.ylabel('Property median price [USD]')\n",
    "plt.grid()\n",
    "plt.show()\n"
   ]
  },
  {
   "attachments": {},
   "cell_type": "markdown",
   "id": "sublime-newspaper",
   "metadata": {},
   "source": [
    "The data show that the area with the highest prices of the south belt is Getafe. Since the median splits the data in two halves, Getafe has the highest midpoint price, suggesting that it also contains the most expensive properties among the south belt locations with a median price of approximately 285.3K USD. Analogously, Alcorcón has the second highest median but much lower than that of Getafe, sitting at around 180.5K USD; in third place is Leganés with 170K USD, and lastly Fuenlabrada with 155K USD. \n",
    "\n",
    "The median provides a better idea of the wealth of the area and the property prices than the average because it is not affected by the prices of properties at the extremes of the data."
   ]
  },
  {
   "attachments": {},
   "cell_type": "markdown",
   "id": "speaking-diamond",
   "metadata": {},
   "source": [
    "#### Exercise 16. Calculate the sample mean and variance of the variables: price, rooms, surface area and bathrooms (you must use the subset obtained in Exercise 14) (★★★)\n",
    "\n",
    "Print both values for each variable."
   ]
  },
  {
   "cell_type": "code",
   "execution_count": 18,
   "id": "random-feeling",
   "metadata": {},
   "outputs": [
    {
     "name": "stdout",
     "output_type": "stream",
     "text": [
      "The mean of the price [USD], rooms, and surfaces [m2] is: \n",
      "\n",
      "price      223094.480706\n",
      "rooms           3.017738\n",
      "surface       111.752224\n",
      "Name: mean, dtype: float64\n",
      "\n",
      "The variance of the price [USD], rooms, and surfaces [m2] is: \n",
      "\n",
      "price      1.492137e+10\n",
      "rooms      7.188859e-01\n",
      "surface    4.263052e+03\n",
      "Name: std, dtype: float64\n"
     ]
    }
   ],
   "source": [
    "statsSouthBelt         = southBelt.describe()\n",
    "filteredStatsSouthBelt = statsSouthBelt[['price','rooms','surface']]\n",
    "\n",
    "print('The mean of the price [USD], rooms, and surfaces [m2] is: \\n')\n",
    "print(filteredStatsSouthBelt.loc['mean',:])\n",
    "\n",
    "print('\\nThe variance of the price [USD], rooms, and surfaces [m2] is: \\n')\n",
    "print(filteredStatsSouthBelt.loc['std',:]**2)\n"
   ]
  },
  {
   "attachments": {},
   "cell_type": "markdown",
   "id": "revolutionary-matrix",
   "metadata": {},
   "source": [
    "#### Exercise 17. What is the most expensive house in each population? You must use the subset obtained in Exercise 14 (★★☆)\n",
    "\n",
    "Print both the address and the price of the selected house of each population. You can print a DataFrame or a single line for each population."
   ]
  },
  {
   "cell_type": "code",
   "execution_count": 19,
   "id": "fifteen-browse",
   "metadata": {},
   "outputs": [
    {
     "name": "stdout",
     "output_type": "stream",
     "text": [
      "The most expensive house in Fuenlabrada is located in Urbanización Urbanización Parque Miraflores, 51, Fuenlabrada. Its price is 490000 USD\n",
      "\n",
      "The most expensive house in Leganés is located in Plaza Pza España, Gran Oportunidad!!!, Leganés. Its price is 650000 USD\n",
      "\n",
      "The most expensive house in Getafe is located in San Sebastián, 1, Getafe. Its price is 1050000 USD\n",
      "\n",
      "The most expensive house in Alcorcón is located in Travesia Nuncio del, Alcorcón. Its price is 950000 USD\n",
      "\n"
     ]
    }
   ],
   "source": [
    "# Group data by level5 and keep 'price' and 'adress' columns from the data frame obtained in exercise 14\n",
    "\n",
    "southBeltGroups = southBelt.groupby(by='level5')[['price','address']].apply(lambda x: x)\n",
    "\n",
    "# Loop through the different locations\n",
    "for place in places:\n",
    "    southBeltPerLoc = southBeltGroups.loc[place,['price','address']].max()\n",
    "    print(f\"The most expensive house in {place} is located in {southBeltPerLoc['address']}. Its price is {southBeltPerLoc['price']} USD\\n\")\n",
    "    \n"
   ]
  },
  {
   "attachments": {},
   "cell_type": "markdown",
   "id": "activated-knight",
   "metadata": {},
   "source": [
    "#### Exercise 18. Normalize the variable of prices for each population and plot the 4 histograms in the same plot (you must use the subset obtained in Exercise 14) (★★★)\n",
    "\n",
    "For the normalization method, you can use the one you consider; there is not a single correct answer to this question. Print the plot and write in the Markdown cell a brief analysis about the plot.\n",
    "\n",
    "Hint: You can help yourself by reviewing the *multihist* demo of Matplotlib."
   ]
  },
  {
   "cell_type": "code",
   "execution_count": null,
   "id": "civic-meditation",
   "metadata": {},
   "outputs": [
    {
     "name": "stdout",
     "output_type": "stream",
     "text": [
      "     norm_price     location\n",
      "0      0.112632     Alcorcón\n",
      "1      0.447368     Alcorcón\n",
      "2      0.261053     Alcorcón\n",
      "3      0.314737     Alcorcón\n",
      "4      0.126211     Alcorcón\n",
      "..          ...          ...\n",
      "902    0.281633  Fuenlabrada\n",
      "903    0.281633  Fuenlabrada\n",
      "904    0.346939  Fuenlabrada\n",
      "905    0.228571  Fuenlabrada\n",
      "906    0.438776  Fuenlabrada\n",
      "\n",
      "[907 rows x 2 columns]\n"
     ]
    },
    {
     "data": {
      "image/png": "[encoded data removed]",
      "text/plain": [
       "<Figure size 1000x1000 with 4 Axes>"
      ]
     },
     "metadata": {},
     "output_type": "display_data"
    }
   ],
   "source": [
    "# Loop through the different locations and normalize the prices\n",
    "normSouthBeltGroups  = pd.DataFrame() # Define auxiliary dataframe to be populated\n",
    "for place in places:\n",
    "    dummySouthBeltGroups               = pd.DataFrame() # In each iteration refresh dummy dataframe\n",
    "    dummySouthBeltGroups['norm_price'] =  southBeltGroups.loc[place,'price']/southBeltGroups.loc[place,'price'].max() # Normalization with respect to max. \n",
    "                                                                                                                      # Since the prices are strictly positive, \n",
    "                                                                                                                      # the data has been normalized within the open set (0,1]\n",
    "    dummySouthBeltGroups['location']   = place\n",
    "    normSouthBeltGroups                = pd.concat([dummySouthBeltGroups,normSouthBeltGroups],ignore_index=True)\n",
    "\n",
    "# Plot data\n",
    "\n",
    "# Using the same number of bins as before\n",
    "\n",
    "fig, ((ax0,ax1),(ax2,ax3)) = plt.subplots(nrows=2,ncols=2,figsize=(10,10))\n",
    "colors = ['blue', 'red', 'green', 'purple']\n",
    "\n",
    "# Fuenlabrada \n",
    "i = 0\n",
    "ax0.hist(normSouthBeltGroups[normSouthBeltGroups['location']==str(places[i])]['norm_price'],nBins, density=True, histtype='bar', color=colors[i])\n",
    "ax0.set_title('Normalized property prices in '+str(places[i]))\n",
    "ax0.grid()\n",
    "\n",
    "# Leganés\n",
    "i = 1\n",
    "ax1.hist(normSouthBeltGroups[normSouthBeltGroups['location']==str(places[i])]['norm_price'],nBins, density=True, histtype='bar', color=colors[i])\n",
    "\n",
    "ax1.set_title('Normalized property prices in '+str(places[i]))\n",
    "ax1.grid()\n",
    "\n",
    "# Getafe\n",
    "i = 2\n",
    "ax2.hist(normSouthBeltGroups[normSouthBeltGroups['location']==str(places[i])]['norm_price'],nBins, density=True, histtype='bar', color=colors[i])\n",
    "ax2.set_title('Normalized property prices in '+str(places[i]))\n",
    "ax2.grid()\n",
    "\n",
    "# Alcorcón\n",
    "i = 3\n",
    "ax3.hist(normSouthBeltGroups[normSouthBeltGroups['location']==str(places[i])]['norm_price'],nBins, density=True, histtype='bar', color=colors[i])\n",
    "ax3.set_title('Normalized property prices in '+str(places[i]))\n",
    "ax3.grid()\n",
    "\n",
    "plt.tight_layout()"
   ]
  },
  {
   "attachments": {},
   "cell_type": "markdown",
   "id": "precise-heavy",
   "metadata": {},
   "source": [
    "**TODO: Markdown**. To write here, double-click on this cell, remove this content and place the text you want to write. Then, execute the cell."
   ]
  },
  {
   "attachments": {},
   "cell_type": "markdown",
   "id": "patent-jonathan",
   "metadata": {},
   "source": [
    "#### Exercise 19. What can you say about the price per square meter (price/m2) between the towns of \"Getafe\" and \"Alcorcón\"? You must use the subset obtained in Exercise 14 (★★☆)\n",
    "\n",
    "Hint: Create a new column called `pps` (price per square meter) and then analyze the values."
   ]
  },
  {
   "cell_type": "code",
   "execution_count": 21,
   "id": "initial-liverpool",
   "metadata": {},
   "outputs": [],
   "source": [
    "# TODO"
   ]
  },
  {
   "attachments": {},
   "cell_type": "markdown",
   "id": "enhanced-moscow",
   "metadata": {},
   "source": [
    "#### Exercise 20. Make the same plot for 4 different populations (level5 column) and rearrange them on the same graph. You must use the subset obtained in Exercise 14 (★★☆)\n",
    " \n",
    "Hint: Make a scatter plot of each population using subplots."
   ]
  },
  {
   "cell_type": "code",
   "execution_count": 22,
   "id": "accepting-airfare",
   "metadata": {},
   "outputs": [],
   "source": [
    "# TODO"
   ]
  },
  {
   "attachments": {},
   "cell_type": "markdown",
   "id": "blocked-effects",
   "metadata": {},
   "source": [
    "#### Exercise 21. Make a plot of the coordinates (latitude and longitude columns) of the south belt of Madrid by color of each population (you must use the subset obtained in Exercise 14) (★★★★)\n",
    "\n",
    "Execute the following cell, and then start coding in the next one. You must implement a simple code that transforms the coordinates columns in a Python dictionary (add more information if needed) and then add it to the map"
   ]
  },
  {
   "cell_type": "code",
   "execution_count": 23,
   "id": "headed-privacy",
   "metadata": {},
   "outputs": [
    {
     "data": {
      "application/vnd.jupyter.widget-view+json": {
       "model_id": "c4407874886047ebbfc4c7414866dcb6",
       "version_major": 2,
       "version_minor": 0
      },
      "text/plain": [
       "Map(center=[40.35, -3.8], controls=(ZoomControl(options=['position', 'zoom_in_text', 'zoom_in_title', 'zoom_ou…"
      ]
     },
     "execution_count": 23,
     "metadata": {},
     "output_type": "execute_result"
    }
   ],
   "source": [
    "from ipyleaflet import Map, basemaps\n",
    "\n",
    "# Map centered on south west part of Madrid\n",
    "map = Map(center = (40.35, -3.8), zoom = 11.5, min_zoom = 1, max_zoom = 20, \n",
    "    basemap=basemaps.OpenStreetMap.Mapnik)\n",
    "map"
   ]
  },
  {
   "cell_type": "code",
   "execution_count": 24,
   "id": "present-mistress",
   "metadata": {},
   "outputs": [],
   "source": [
    "## HERE: plot the coordinates of the estates\n",
    "\n",
    "## PUT HERE YOUR CODE:\n"
   ]
  }
 ],
 "metadata": {
  "kernelspec": {
   "display_name": "Python 3",
   "language": "python",
   "name": "python3"
  },
  "language_info": {
   "codemirror_mode": {
    "name": "ipython",
    "version": 3
   },
   "file_extension": ".py",
   "mimetype": "text/x-python",
   "name": "python",
   "nbconvert_exporter": "python",
   "pygments_lexer": "ipython3",
   "version": "3.11.4"
  }
 },
 "nbformat": 4,
 "nbformat_minor": 5
}
